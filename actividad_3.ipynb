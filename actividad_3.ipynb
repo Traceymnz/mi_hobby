{
  "nbformat": 4,
  "nbformat_minor": 0,
  "metadata": {
    "colab": {
      "provenance": []
    },
    "kernelspec": {
      "name": "python3",
      "display_name": "Python 3"
    },
    "language_info": {
      "name": "python"
    }
  },
  "cells": [
    {
      "cell_type": "markdown",
      "source": [
        "\n",
        "# Prácticas Profesionalizantes 2024\n",
        "EEST 9\n",
        "\n",
        "# Actividad 3"
      ],
      "metadata": {
        "id": "Vdl_txP_7LtD"
      }
    },
    {
      "cell_type": "markdown",
      "source": [
        "## Trabajo en grupo entre 2 o 3 estudiantes\n",
        "Indicar los nombres y los links de los repositorios de la actividad 3 de los integrantes:\n",
        "* nombre - repositorio"
      ],
      "metadata": {
        "id": "Pxb1o18H7UKU"
      }
    },
    {
      "cell_type": "markdown",
      "source": [
        "# Python y Colab\n",
        "* Se utilizará **Python** y este documento de **Google Colab** para resolver el ejercicio.\n",
        "* Para que la tarea se considere entregada se deberá poner el link del documento colab, con las soluciones, en la tarea de **todos** los integrantes.\n",
        "\n",
        "El ejercicio es **procesar texto** largo para identificar líneas, caracteres específicos y generar un diccionario con los nombres de los integrantes.\n",
        "\n",
        "1. Se deberá realizar una **copia** de este documento antes de comenzar a modificar\n",
        "2. A lo largo del documetno se pedirá que responda preguntas y realice código, completar en la copia realizada con lo solicitado.\n",
        "3. Copiar el texto de los archivos subidos en los repositorios individuales utilizados en la actividad 1,  de cada integrante de este grupo en una sola **variable de texto.**\n",
        "4. Antes del texto de cada integrante se deberá poner el nombre correspondiente y luego agregar el caracter *\n"
      ],
      "metadata": {
        "id": "kufnxVG474V2"
      }
    },
    {
      "cell_type": "markdown",
      "source": [
        "Respetar el siguiente formato del texto para guardarlo de esa forma en la variable:\n",
        "\n",
        "Nombre1*\n",
        "\n",
        "Título:\n",
        "\n",
        "Diversión:\n",
        "\n",
        "Familia:\n",
        "\n",
        "Amigos:\n",
        "\n",
        "Medios:\n",
        "\n",
        "Tecnología:\n",
        "\n",
        "Nombre2*"
      ],
      "metadata": {
        "id": "0FVpFUsJMpGJ"
      }
    },
    {
      "cell_type": "code",
      "source": [
        "# completar con sus textos\n",
        "\n",
        "texto_completo = '''Aylén\n",
        "\n",
        "Titulo: Cine\n",
        "\n",
        "Diversión: Este hobby me gusta porque ves el mundo del cine, podes observar los efectos especiales y sorprenderte de la evolusion de ellos, además te distrae de la realidad\n",
        "\n",
        "Familia: Este hobby lo comparto con una de mis hermanas y mi papá\n",
        "\n",
        "Amigos: A este hobby no lo comparto con mis amigos, ya que cada uno tiene sus responsablidades y se complica\n",
        "\n",
        "Medios: Busco informacion sobre este hobby en google, en los sitios web de las plataformas de streaming o enlas redes sociales(instagram, tiktok, twitter, etc)\n",
        "\n",
        "Tecnología: La tecnología ha facilitado el acceso a realizar este hobby ya que hay pantallas mas avanzadas, proyectores de alta definición, han adoptado de ella para ofrecer proyecciones en 3D y 4D. Un informe de noticias dice que el este hobby es realizado más por mujeres que por hombres.\n",
        "\n",
        "Tracey\n",
        "\n",
        "Titulo: Danza\n",
        "\n",
        "Diversión: Bailar me gusto desde siempre, para mi es una forma de expresarme y liberar mis emociones, es algo que me apasiona desde la primera clase que tome a mis 11 años, desde entonces formo parte de mi vida y siento que se volvio algo muy significativo parte mi\n",
        "\n",
        "Familia: Comparto la danza con mi papá, a el siempre le gusto, decia que era un sueño para el poder dedicarse a bailar\n",
        "\n",
        "Amigos: Salimos a bailar minimo 1 vez a la semana, en esos momento comparto este hobby con ellos\n",
        "\n",
        "Medios: Suelo ver contenido de este hobby a través de reded sociales, en especial tik tok\n",
        "\n",
        "Tecnología:La tecnologia facilita mucho este hobby ya que con esta se pone la musica para bailar o incluso si quiero aprender nuevas cosas simplemente lo puedo ver en el celular.\n",
        "\n",
        "Morena\n",
        "\n",
        "Tiyulo: Fútbol\n",
        "\n",
        "Diversión: Este es mi Hobby favorito, ya que es un deporte que hago desde chica y que hasta el dia de hoy me hace la persona mas feliz del mundo.\n",
        "\n",
        "Familia: este Hobby lo comparto con casi toda mi familia, ya que somos todos unos apacionados del Fútbol.\n",
        "\n",
        "Amigos: todos los días de mi vida, ya que es un deporte que practico\n",
        "\n",
        "Medios: Busco informacion sobre este deporte por instagram, twitter, youtube,etc.\n",
        "\n",
        "Tecnología: la tecnología le a facilitado un poco el trabajo a los arbitros, a traves del Var, ya que cuentan con aparatos tecnológicos que te dicen si el jugador esta adelantado o no, entre otras cosas. Hoy en día las mujeres vienen creciendo mucho en el Fútbol y cada vez son más las que se animan a practicarlo, pero todavia estamos muy lejos de alcanzar el gran número de los hombres.'''"
      ],
      "metadata": {
        "id": "YfiNkqh-0K28"
      },
      "execution_count": null,
      "outputs": []
    },
    {
      "cell_type": "markdown",
      "source": [
        "## Procesamiento\n",
        "* Procesar la variable de texto y generar una estructura que permita acceder directamente con el nombre del integrante:\n",
        "\n",
        "**Nombre1**: **texto del hobby**\n",
        "* Nota: Para guardar la key con el nombre preguntar si en la línea contiene el caracter \"*\""
      ],
      "metadata": {
        "id": "VehRQ8fHNTTe"
      }
    },
    {
      "cell_type": "markdown",
      "source": [
        "Para poder concatenar texto debo ir agregando los textos de cada linea, les dejo un ejemplo"
      ],
      "metadata": {
        "id": "NyZsweS_T_83"
      }
    },
    {
      "cell_type": "code",
      "source": [
        "contenido = ''\n",
        "contenido = contenido + 'hola'\n",
        "contenido"
      ],
      "metadata": {
        "colab": {
          "base_uri": "https://localhost:8080/",
          "height": 36
        },
        "id": "WuaOM40fTtW0",
        "outputId": "ba470de8-6b52-4314-e5e7-a2eb64c09e34"
      },
      "execution_count": null,
      "outputs": [
        {
          "output_type": "execute_result",
          "data": {
            "text/plain": [
              "'hola'"
            ],
            "application/vnd.google.colaboratory.intrinsic+json": {
              "type": "string"
            }
          },
          "metadata": {},
          "execution_count": 43
        }
      ]
    },
    {
      "cell_type": "code",
      "source": [
        "contenido = contenido + ' mas texto'\n",
        "contenido"
      ],
      "metadata": {
        "colab": {
          "base_uri": "https://localhost:8080/",
          "height": 35
        },
        "id": "h1a_Lo7dT3SC",
        "outputId": "703b813c-800e-48db-8c7c-f4fa8f73b768"
      },
      "execution_count": null,
      "outputs": [
        {
          "output_type": "execute_result",
          "data": {
            "text/plain": [
              "'hola mas texto'"
            ],
            "application/vnd.google.colaboratory.intrinsic+json": {
              "type": "string"
            }
          },
          "metadata": {},
          "execution_count": 3
        }
      ]
    },
    {
      "cell_type": "code",
      "source": [
        " # completar con el código que procesa y genera el diccionario\n",
        "\n",
        "#separo en líneas la variable de texto\n",
        "\n",
        "#creo mi diccionario\n",
        "\n",
        "# recorro la variable con los elementos, encontrando las líneas que contiene el caracter *\n",
        "\n",
        "# si la linea no contiene * voy agregando a una variable de texto el contenido de ese hobby\n",
        "\n",
        "mi_dicc = {\"                             Nombre 1*: \" : \"Aylén*\",\n",
        "\n",
        "\"Titulo 1:\": \"Cine ' , '\",\n",
        "\n",
        "\"Diversión 1:\": \"Este hobby me gusta porque ves el mundo del cine, podes observar los efectos especiales y sorprenderte de la evolusion de ellos, además te distrae de la realidad ' , '\",\n",
        "\n",
        "\"Familia 1:\": \"Este hobby lo comparto con una de mis hermanas y mi papá' , '\",\n",
        "\n",
        "\"Amigos 1:\": \"A este hobby no lo comparto con mis amigos, ya que cada uno tiene sus responsablidades y se complica ' , '\",\n",
        "\n",
        "\"Medios 1:\": \" Busco informacion sobre este hobby en google, en los sitios web de las plataformas de streaming o enlas redes sociales(instagram, tiktok, twitter, etc) ' , '\",\n",
        "\n",
        "\"Tecnología 1:\": \"La tecnología ha facilitado el acceso a realizar este hobby ya que hay pantallas mas avanzadas, proyectores de alta definición, han adoptado de ella para ofrecer proyecciones en 3D y 4D. Un informe de noticias dice que el este hobby es realizado más por mujeres que por hombres.  \",\n",
        "\n",
        "\"                             Nombre 2*: \":\"Tracey*\",\n",
        "\n",
        "\"Titulo 2 :\": \"Danza ' , '\",\n",
        "\n",
        "\"Diversión 2:\":\"  Bailar me gusto desde siempre, para mi es una forma de expresarme y liberar mis emociones, es algo que me apasiona desde la primera clase que tome a mis 11 años, desde entonces formo parte de mi vida y siento que se volvio algo muy significativo parte mi' , '\",\n",
        "\n",
        "\"Familia 2:\":\" Comparto la danza con mi papá, a el siempre le gusto, decia que era un sueño para el poder dedicarse a bailar' , '\",\n",
        "\n",
        "\"Amigos 2:\": \"Salimos a bailar minimo 1 vez a la semana, en esos momento comparto este hobby con ellos' , '\",\n",
        "\n",
        "\"Medios 2:\": \"Suelo ver contenido de este hobby a través de reded sociales, en especial tik tok ' , '\",\n",
        "\n",
        "\"Tecnología 2:\":\"La tecnologia facilita mucho este hobby ya que con esta se pone la musica para bailar o incluso si quiero aprender nuevas cosas simplemente lo puedo ver en el celular. \",\n",
        "\n",
        "\"                             Nombre 3*: \":\"Morena*\",\n",
        "\n",
        "\"Titulo 3:\":\" Fútbol ' , '\",\n",
        "\n",
        "\"Diversión 3:\": \"Este es mi Hobby favorito, ya que es un deporte que hago desde chica y que hasta el dia de hoy me hace la persona mas feliz del mundo. ' , '\",\n",
        "\n",
        "\"Familia 3:\":\" este Hobby lo comparto con casi toda mi familia, ya que somos todos unos apacionados del Fútbol.' , '\",\n",
        "\n",
        "\"Amigos 3:\":\" todos los días de mi vida, ya que es un deporte que practico ' , '\",\n",
        "\n",
        "\"Medios 3:\":\" Busco informacion sobre este deporte por instagram, twitter, youtube,etc.' , '\",\n",
        "\n",
        "\"Tecnología 3:\":\" la tecnología le a facilitado un poco el trabajo a los arbitros, a traves del Var, ya que cuentan con aparatos tecnológicos que te dicen si el jugador esta adelantado o no, entre otras cosas. Hoy en día las mujeres vienen creciendo mucho en el Fútbol y cada vez son más las que se animan a practicarlo, pero todavia estamos muy lejos de alcanzar el gran número de los hombres. \",\n",
        "\n",
        "}\n",
        "\n",
        "Lista_lineas = mi_dicc.items()\n",
        "\n",
        "contenido = ''\n",
        "\n",
        "KeyValor=''\n",
        "\n",
        "\n",
        "for x,y in Lista_lineas:\n",
        "\n",
        "  if '*' in x:\n",
        "     integrante = x.replace('*','')\n",
        "     KeyValor = integrante\n",
        "     integrante=''\n",
        "  else:\n",
        "      integrante = x\n",
        "      contenido = contenido + integrante\n",
        "      KeyValor=''\n",
        "\n",
        "\n",
        "  if '*' in y:\n",
        "     integrante = y.replace('*','')\n",
        "     KeyValor = KeyValor + integrante\n",
        "     integrante=''\n",
        "  else:\n",
        "      integrante = y\n",
        "      contenido = contenido + integrante\n",
        "      KeyValor=''\n",
        "\n",
        "  print(KeyValor)\n",
        "\n",
        "print(' Variable Contenido: ', contenido)"
      ],
      "metadata": {
        "id": "_ddIprgtFkYQ",
        "colab": {
          "base_uri": "https://localhost:8080/"
        },
        "outputId": "4df43e71-c659-4f72-c324-3895a598bb19"
      },
      "execution_count": null,
      "outputs": [
        {
          "output_type": "stream",
          "name": "stdout",
          "text": [
            "                             Nombre 1: Aylén\n",
            "\n",
            "\n",
            "\n",
            "\n",
            "\n",
            "\n",
            "                             Nombre 2: Tracey\n",
            "\n",
            "\n",
            "\n",
            "\n",
            "\n",
            "\n",
            "                             Nombre 3: Morena\n",
            "\n",
            "\n",
            "\n",
            "\n",
            "\n",
            "\n",
            " Variable Contenido:  Titulo 1:Cine ' , 'Diversión 1:Este hobby me gusta porque ves el mundo del cine, podes observar los efectos especiales y sorprenderte de la evolusion de ellos, además te distrae de la realidad ' , 'Familia 1:Este hobby lo comparto con una de mis hermanas y mi papá' , 'Amigos 1:A este hobby no lo comparto con mis amigos, ya que cada uno tiene sus responsablidades y se complica ' , 'Medios 1: Busco informacion sobre este hobby en google, en los sitios web de las plataformas de streaming o enlas redes sociales(instagram, tiktok, twitter, etc) ' , 'Tecnología 1:La tecnología ha facilitado el acceso a realizar este hobby ya que hay pantallas mas avanzadas, proyectores de alta definición, han adoptado de ella para ofrecer proyecciones en 3D y 4D. Un informe de noticias dice que el este hobby es realizado más por mujeres que por hombres.  Titulo 2 :Danza ' , 'Diversión 2:  Bailar me gusto desde siempre, para mi es una forma de expresarme y liberar mis emociones, es algo que me apasiona desde la primera clase que tome a mis 11 años, desde entonces formo parte de mi vida y siento que se volvio algo muy significativo parte mi' , 'Familia 2: Comparto la danza con mi papá, a el siempre le gusto, decia que era un sueño para el poder dedicarse a bailar' , 'Amigos 2:Salimos a bailar minimo 1 vez a la semana, en esos momento comparto este hobby con ellos' , 'Medios 2:Suelo ver contenido de este hobby a través de reded sociales, en especial tik tok ' , 'Tecnología 2:La tecnologia facilita mucho este hobby ya que con esta se pone la musica para bailar o incluso si quiero aprender nuevas cosas simplemente lo puedo ver en el celular. Titulo 3: Fútbol ' , 'Diversión 3:Este es mi Hobby favorito, ya que es un deporte que hago desde chica y que hasta el dia de hoy me hace la persona mas feliz del mundo. ' , 'Familia 3: este Hobby lo comparto con casi toda mi familia, ya que somos todos unos apacionados del Fútbol.' , 'Amigos 3: todos los días de mi vida, ya que es un deporte que practico ' , 'Medios 3: Busco informacion sobre este deporte por instagram, twitter, youtube,etc.' , 'Tecnología 3: la tecnología le a facilitado un poco el trabajo a los arbitros, a traves del Var, ya que cuentan con aparatos tecnológicos que te dicen si el jugador esta adelantado o no, entre otras cosas. Hoy en día las mujeres vienen creciendo mucho en el Fútbol y cada vez son más las que se animan a practicarlo, pero todavia estamos muy lejos de alcanzar el gran número de los hombres. \n"
          ]
        }
      ]
    },
    {
      "cell_type": "markdown",
      "source": [
        "* Indicar cuáles son las keys y cuáles los valores del diccionario"
      ],
      "metadata": {
        "id": "fz3ki8y7S2qR"
      }
    },
    {
      "cell_type": "code",
      "source": [
        "mi_dicc = {\"                             Nombre 1*: \" : \"Aylén*\",\n",
        "\n",
        "\"Titulo 1:\": \"Cine ' , '\",\n",
        "\n",
        "\"Diversión 1:\": \"Este hobby me gusta porque ves el mundo del cine, podes observar los efectos especiales y sorprenderte de la evolusion de ellos, además te distrae de la realidad ' , '\",\n",
        "\n",
        "\"Familia 1:\": \"Este hobby lo comparto con una de mis hermanas y mi papá' , '\",\n",
        "\n",
        "\"Amigos 1:\": \"A este hobby no lo comparto con mis amigos, ya que cada uno tiene sus responsablidades y se complica ' , '\",\n",
        "\n",
        "\"Medios 1:\": \" Busco informacion sobre este hobby en google, en los sitios web de las plataformas de streaming o enlas redes sociales(instagram, tiktok, twitter, etc) ' , '\",\n",
        "\n",
        "\"Tecnología 1:\": \"La tecnología ha facilitado el acceso a realizar este hobby ya que hay pantallas mas avanzadas, proyectores de alta definición, han adoptado de ella para ofrecer proyecciones en 3D y 4D. Un informe de noticias dice que el este hobby es realizado más por mujeres que por hombres.  \",\n",
        "\n",
        "\"                             Nombre 2*: \":\"Tracey*\",\n",
        "\n",
        "\"Titulo 2 :\": \"Danza ' , '\",\n",
        "\n",
        "\"Diversión 2:\":\"  Bailar me gusto desde siempre, para mi es una forma de expresarme y liberar mis emociones, es algo que me apasiona desde la primera clase que tome a mis 11 años, desde entonces formo parte de mi vida y siento que se volvio algo muy significativo parte mi' , '\",\n",
        "\n",
        "\"Familia 2:\":\" Comparto la danza con mi papá, a el siempre le gusto, decia que era un sueño para el poder dedicarse a bailar' , '\",\n",
        "\n",
        "\"Amigos 2:\": \"Salimos a bailar minimo 1 vez a la semana, en esos momento comparto este hobby con ellos' , '\",\n",
        "\n",
        "\"Medios 2:\": \"Suelo ver contenido de este hobby a través de reded sociales, en especial tik tok ' , '\",\n",
        "\n",
        "\"Tecnología 2:\":\"La tecnologia facilita mucho este hobby ya que con esta se pone la musica para bailar o incluso si quiero aprender nuevas cosas simplemente lo puedo ver en el celular. \",\n",
        "\n",
        "\"                             Nombre 3*: \":\"Morena*\",\n",
        "\n",
        "\"Titulo 3:\":\" Fútbol ' , '\",\n",
        "\n",
        "\"Diversión 3:\": \"Este es mi Hobby favorito, ya que es un deporte que hago desde chica y que hasta el dia de hoy me hace la persona mas feliz del mundo. ' , '\",\n",
        "\n",
        "\"Familia 3:\":\" este Hobby lo comparto con casi toda mi familia, ya que somos todos unos apacionados del Fútbol.' , '\",\n",
        "\n",
        "\"Amigos 3:\":\" todos los días de mi vida, ya que es un deporte que practico ' , '\",\n",
        "\n",
        "\"Medios 3:\":\" Busco informacion sobre este deporte por instagram, twitter, youtube,etc.' , '\",\n",
        "\n",
        "\"Tecnología 3:\":\" la tecnología le a facilitado un poco el trabajo a los arbitros, a traves del Var, ya que cuentan con aparatos tecnológicos que te dicen si el jugador esta adelantado o no, entre otras cosas. Hoy en día las mujeres vienen creciendo mucho en el Fútbol y cada vez son más las que se animan a practicarlo, pero todavia estamos muy lejos de alcanzar el gran número de los hombres. \",\n",
        "\n",
        "}\n",
        "\n",
        "Lista_lineas = mi_dicc.items()\n",
        "\n",
        "contenido = ''\n",
        "\n",
        "KeyValor=''\n",
        "abc = ''\n",
        "\n",
        "for x,y in Lista_lineas:\n",
        "\n",
        "  if '*' in x:\n",
        "     integrante = x.replace('*','')\n",
        "     KeyValor = integrante\n",
        "     integrante=''\n",
        "  else:\n",
        "      integrante = x\n",
        "      contenido = contenido + integrante\n",
        "      KeyValor=''\n",
        "      abc = x\n",
        "\n",
        "  if '*' in y:\n",
        "     integrante = y.replace('*','')\n",
        "     KeyValor = KeyValor + integrante\n",
        "     integrante=''\n",
        "  else:\n",
        "      integrante = y\n",
        "      contenido = contenido + integrante\n",
        "      KeyValor=''\n",
        "      abc= abc + y\n",
        "      print(abc)\n",
        "      abc=''\n",
        "  print(KeyValor)\n"
      ],
      "metadata": {
        "id": "2EXjZ4ZdF7LZ",
        "colab": {
          "base_uri": "https://localhost:8080/"
        },
        "outputId": "c28d343d-a055-4a07-9bb4-38f3144b09d4"
      },
      "execution_count": null,
      "outputs": [
        {
          "output_type": "stream",
          "name": "stdout",
          "text": [
            "                             Nombre 1: Aylén\n",
            "Titulo 1:Cine ' , '\n",
            "\n",
            "Diversión 1:Este hobby me gusta porque ves el mundo del cine, podes observar los efectos especiales y sorprenderte de la evolusion de ellos, además te distrae de la realidad ' , '\n",
            "\n",
            "Familia 1:Este hobby lo comparto con una de mis hermanas y mi papá' , '\n",
            "\n",
            "Amigos 1:A este hobby no lo comparto con mis amigos, ya que cada uno tiene sus responsablidades y se complica ' , '\n",
            "\n",
            "Medios 1: Busco informacion sobre este hobby en google, en los sitios web de las plataformas de streaming o enlas redes sociales(instagram, tiktok, twitter, etc) ' , '\n",
            "\n",
            "Tecnología 1:La tecnología ha facilitado el acceso a realizar este hobby ya que hay pantallas mas avanzadas, proyectores de alta definición, han adoptado de ella para ofrecer proyecciones en 3D y 4D. Un informe de noticias dice que el este hobby es realizado más por mujeres que por hombres.  \n",
            "\n",
            "                             Nombre 2: Tracey\n",
            "Titulo 2 :Danza ' , '\n",
            "\n",
            "Diversión 2:  Bailar me gusto desde siempre, para mi es una forma de expresarme y liberar mis emociones, es algo que me apasiona desde la primera clase que tome a mis 11 años, desde entonces formo parte de mi vida y siento que se volvio algo muy significativo parte mi' , '\n",
            "\n",
            "Familia 2: Comparto la danza con mi papá, a el siempre le gusto, decia que era un sueño para el poder dedicarse a bailar' , '\n",
            "\n",
            "Amigos 2:Salimos a bailar minimo 1 vez a la semana, en esos momento comparto este hobby con ellos' , '\n",
            "\n",
            "Medios 2:Suelo ver contenido de este hobby a través de reded sociales, en especial tik tok ' , '\n",
            "\n",
            "Tecnología 2:La tecnologia facilita mucho este hobby ya que con esta se pone la musica para bailar o incluso si quiero aprender nuevas cosas simplemente lo puedo ver en el celular. \n",
            "\n",
            "                             Nombre 3: Morena\n",
            "Titulo 3: Fútbol ' , '\n",
            "\n",
            "Diversión 3:Este es mi Hobby favorito, ya que es un deporte que hago desde chica y que hasta el dia de hoy me hace la persona mas feliz del mundo. ' , '\n",
            "\n",
            "Familia 3: este Hobby lo comparto con casi toda mi familia, ya que somos todos unos apacionados del Fútbol.' , '\n",
            "\n",
            "Amigos 3: todos los días de mi vida, ya que es un deporte que practico ' , '\n",
            "\n",
            "Medios 3: Busco informacion sobre este deporte por instagram, twitter, youtube,etc.' , '\n",
            "\n",
            "Tecnología 3: la tecnología le a facilitado un poco el trabajo a los arbitros, a traves del Var, ya que cuentan con aparatos tecnológicos que te dicen si el jugador esta adelantado o no, entre otras cosas. Hoy en día las mujeres vienen creciendo mucho en el Fútbol y cada vez son más las que se animan a practicarlo, pero todavia estamos muy lejos de alcanzar el gran número de los hombres. \n",
            "\n"
          ]
        }
      ]
    },
    {
      "cell_type": "markdown",
      "source": [
        "### Contestar\n",
        "1. Indicar qué tipos de datos se utilizaron en este documento.\n",
        "2. Por cada tipo de datos de los ejemplos, indique cuáles son las variables utilizadas en esta actividad de ese tipo.\n",
        "3. ¿Qué estructuras de datos que permite almacenar más de un elemento, utilizó en esta actividad? De los nombres de las variables que correspondan a este tipo de datos.\n",
        "4. ¿Qué estructuras de control utilizó?\n",
        "5. Investigar en chatgpt: ¿Qué tipos de archivos se pueden utilizar para guardar datos? Indique los formatos y las librerías que deben importarse para poder usar.\n",
        "\n",
        "\n",
        "1.  Los datos que se utilizaron son: list,tipo dict,int,str.\n",
        "2.  Las variables que se utilizaron fueron: mi_dicc, lista_lineas, hobbies, contenido, keyValor, abc, texto_compelto.\n",
        "3. Las estructuras que permite almacenar mas de un elemento son: lista(list)\n",
        "4. Las estructuras de control que utilize fueron: for, if y else.\n",
        "5.\n",
        "    1. CSV: Archivo de texto plano con valores separados por comas.\n",
        "       Librería: csv.\n",
        "               import csv\n",
        "\n",
        "    2. JSON: Formato de archivo de texto para datos estructurados.\n",
        "       Librería: json.\n",
        "               import json\n",
        "\n",
        "    3. Excel (XLSX): Archivo binario de hojas de cálculo.\n",
        "       Librerías: openpyxl, xlrd, xlsxwriter.\n",
        "              import openpyxl, xlrd, xlsxwriter\n",
        "\n",
        "    4. SQLite: Archivo de base de datos ligero.\n",
        "       Librería: sqlite3.\n",
        "              import sqlite3\n",
        "    5. HDF5: Formato para grandes cantidades de datos.\n",
        "       Librerías: h5py, pytables.\n",
        "             import h5py, tables\n",
        "Estas librerías son las principales para trabajar con estos formatos en Python.\n"
      ],
      "metadata": {
        "id": "GZCJ7WEmBL4I"
      }
    },
    {
      "cell_type": "markdown",
      "source": [
        "* Indicar la longitud del diccionario\n"
      ],
      "metadata": {
        "id": "GhafOMUlNuNi"
      }
    },
    {
      "cell_type": "code",
      "source": [
        "#completar con el código para indicar la longitud\n",
        "mi_dicc = {\"                             Nombre 1*: \" : \"Aylén*\",\n",
        "\n",
        "\"Titulo 1:\": \"Cine ' , '\",\n",
        "\n",
        "\"Diversión 1:\": \"Este hobby me gusta porque ves el mundo del cine, podes observar los efectos especiales y sorprenderte de la evolusion de ellos, además te distrae de la realidad ' , '\",\n",
        "\n",
        "\"Familia 1:\": \"Este hobby lo comparto con una de mis hermanas y mi papá' , '\",\n",
        "\n",
        "\"Amigos 1:\": \"A este hobby no lo comparto con mis amigos, ya que cada uno tiene sus responsablidades y se complica ' , '\",\n",
        "\n",
        "\"Medios 1:\": \" Busco informacion sobre este hobby en google, en los sitios web de las plataformas de streaming o enlas redes sociales(instagram, tiktok, twitter, etc) ' , '\",\n",
        "\n",
        "\"Tecnología 1:\": \"La tecnología ha facilitado el acceso a realizar este hobby ya que hay pantallas mas avanzadas, proyectores de alta definición, han adoptado de ella para ofrecer proyecciones en 3D y 4D. Un informe de noticias dice que el este hobby es realizado más por mujeres que por hombres.  \",\n",
        "\n",
        "\"                             Nombre 2*: \":\"Tracey*\",\n",
        "\n",
        "\"Titulo 2 :\": \"Danza ' , '\",\n",
        "\n",
        "\"Diversión 2:\":\"  Bailar me gusto desde siempre, para mi es una forma de expresarme y liberar mis emociones, es algo que me apasiona desde la primera clase que tome a mis 11 años, desde entonces formo parte de mi vida y siento que se volvio algo muy significativo parte mi' , '\",\n",
        "\n",
        "\"Familia 2:\":\" Comparto la danza con mi papá, a el siempre le gusto, decia que era un sueño para el poder dedicarse a bailar' , '\",\n",
        "\n",
        "\"Amigos 2:\": \"Salimos a bailar minimo 1 vez a la semana, en esos momento comparto este hobby con ellos' , '\",\n",
        "\n",
        "\"Medios 2:\": \"Suelo ver contenido de este hobby a través de reded sociales, en especial tik tok ' , '\",\n",
        "\n",
        "\"Tecnología 2:\":\"La tecnologia facilita mucho este hobby ya que con esta se pone la musica para bailar o incluso si quiero aprender nuevas cosas simplemente lo puedo ver en el celular. \",\n",
        "\n",
        "\"                             Nombre 3*: \":\"Morena*\",\n",
        "\n",
        "\"Titulo 3:\":\" Fútbol ' , '\",\n",
        "\n",
        "\"Diversión 3:\": \"Este es mi Hobby favorito, ya que es un deporte que hago desde chica y que hasta el dia de hoy me hace la persona mas feliz del mundo. ' , '\",\n",
        "\n",
        "\"Familia 3:\":\" este Hobby lo comparto con casi toda mi familia, ya que somos todos unos apacionados del Fútbol.' , '\",\n",
        "\n",
        "\"Amigos 3:\":\" todos los días de mi vida, ya que es un deporte que practico ' , '\",\n",
        "\n",
        "\"Medios 3:\":\" Busco informacion sobre este deporte por instagram, twitter, youtube,etc.' , '\",\n",
        "\n",
        "\"Tecnología 3:\":\" la tecnología le a facilitado un poco el trabajo a los arbitros, a traves del Var, ya que cuentan con aparatos tecnológicos que te dicen si el jugador esta adelantado o no, entre otras cosas. Hoy en día las mujeres vienen creciendo mucho en el Fútbol y cada vez son más las que se animan a practicarlo, pero todavia estamos muy lejos de alcanzar el gran número de los hombres. \",\n",
        "\n",
        "}\n",
        "longitud = len(mi_dicc)\n",
        "print(\"La cantidad de lineas son:\", longitud)"
      ],
      "metadata": {
        "id": "NbxzdmPRSPTN",
        "colab": {
          "base_uri": "https://localhost:8080/"
        },
        "outputId": "e07cf4eb-3f74-47e3-a236-e1ca3e8a9712"
      },
      "execution_count": null,
      "outputs": [
        {
          "output_type": "stream",
          "name": "stdout",
          "text": [
            "La cantidad de lineas son: 21\n"
          ]
        }
      ]
    },
    {
      "cell_type": "markdown",
      "source": [
        "* Indicar qué integrante tiene el texto más largo.\n",
        "\n",
        "Completar el código para encontrar la solución"
      ],
      "metadata": {
        "id": "FPtyX2FySIRw"
      }
    },
    {
      "cell_type": "code",
      "source": [
        "hobbies = {\"                             Nombre 1*: \" : \"Aylén*\",\n",
        "\n",
        "\"Titulo 1:\": \"Cine ' , '\",\n",
        "\n",
        "\"Diversión 1:\": \"Este hobby me gusta porque ves el mundo del cine, podes observar los efectos especiales y sorprenderte de la evolusion de ellos, además te distrae de la realidad ' , '\",\n",
        "\n",
        "\"Familia 1:\": \"Este hobby lo comparto con una de mis hermanas y mi papá' , '\",\n",
        "\n",
        "\"Amigos 1:\": \"A este hobby no lo comparto con mis amigos, ya que cada uno tiene sus responsablidades y se complica ' , '\",\n",
        "\n",
        "\"Medios 1:\": \" Busco informacion sobre este hobby en google, en los sitios web de las plataformas de streaming o enlas redes sociales(instagram, tiktok, twitter, etc) ' , '\",\n",
        "\n",
        "\"Tecnología 1:\": \"La tecnología ha facilitado el acceso a realizar este hobby ya que hay pantallas mas avanzadas, proyectores de alta definición, han adoptado de ella para ofrecer proyecciones en 3D y 4D. Un informe de noticias dice que el este hobby es realizado más por mujeres que por hombres.  \",\n",
        "\n",
        "\"                             Nombre 2*: \":\"Tracey*\",\n",
        "\n",
        "\"Titulo 2 :\": \"Danza ' , '\",\n",
        "\n",
        "\"Diversión 2:\":\"  Bailar me gusto desde siempre, para mi es una forma de expresarme y liberar mis emociones, es algo que me apasiona desde la primera clase que tome a mis 11 años, desde entonces formo parte de mi vida y siento que se volvio algo muy significativo parte mi' , '\",\n",
        "\n",
        "\"Familia 2:\":\" Comparto la danza con mi papá, a el siempre le gusto, decia que era un sueño para el poder dedicarse a bailar' , '\",\n",
        "\n",
        "\"Amigos 2:\": \"Salimos a bailar minimo 1 vez a la semana, en esos momento comparto este hobby con ellos' , '\",\n",
        "\n",
        "\"Medios 2:\": \"Suelo ver contenido de este hobby a través de reded sociales, en especial tik tok ' , '\",\n",
        "\n",
        "\"Tecnología 2:\":\"La tecnologia facilita mucho este hobby ya que con esta se pone la musica para bailar o incluso si quiero aprender nuevas cosas simplemente lo puedo ver en el celular. \",\n",
        "\n",
        "\"                             Nombre 3*: \":\"Morena*\",\n",
        "\n",
        "\"Titulo 3:\":\" Fútbol ' , '\",\n",
        "\n",
        "\"Diversión 3:\": \"Este es mi Hobby favorito, ya que es un deporte que hago desde chica y que hasta el dia de hoy me hace la persona mas feliz del mundo. ' , '\",\n",
        "\n",
        "\"Familia 3:\":\" este Hobby lo comparto con casi toda mi familia, ya que somos todos unos apacionados del Fútbol.' , '\",\n",
        "\n",
        "\"Amigos 3:\":\" todos los días de mi vida, ya que es un deporte que practico ' , '\",\n",
        "\n",
        "\"Medios 3:\":\" Busco informacion sobre este deporte por instagram, twitter, youtube,etc.' , '\",\n",
        "\n",
        "\"Tecnología 3:\":\" la tecnología le a facilitado un poco el trabajo a los arbitros, a traves del Var, ya que cuentan con aparatos tecnológicos que te dicen si el jugador esta adelantado o no, entre otras cosas. Hoy en día las mujeres vienen creciendo mucho en el Fútbol y cada vez son más las que se animan a practicarlo, pero todavia estamos muy lejos de alcanzar el gran número de los hombres. \",\n",
        "\n",
        "}\n",
        "\n",
        "\n",
        "hobbies_mas_largo = None\n",
        "longitud_maxima = 0\n",
        "\n",
        "for integrante, texto in hobbies.items():\n",
        "    longitud_texto = len(texto)\n",
        "    if longitud_texto > longitud_maxima:\n",
        "        hobbies_mas_largo = integrante\n",
        "        longitud_maxima = longitud_texto\n",
        "    else:\n",
        "       pass\n",
        "\n",
        "print(f\"El integrante con el texto más largo es {hobbies_mas_largo} con {longitud_maxima} caracteres.\")\n"
      ],
      "metadata": {
        "id": "IpZ4n5LrDwqS",
        "colab": {
          "base_uri": "https://localhost:8080/"
        },
        "outputId": "1df7789e-224b-40ec-f16c-c52775d61331"
      },
      "execution_count": 25,
      "outputs": [
        {
          "output_type": "stream",
          "name": "stdout",
          "text": [
            "El integrante con el texto más largo es Tecnología 3: con 378 caracteres.\n"
          ]
        }
      ]
    },
    {
      "cell_type": "markdown",
      "source": [
        "Profe, al hacerlo en la celda de abajo figuraba como error asi que decidimos hacerla en una nueva.\n"
      ],
      "metadata": {
        "id": "EL8oQcH6BSw_"
      }
    },
    {
      "cell_type": "code",
      "source": [
        "# recorro el diccionario\n",
        "for x in hobbies:\n",
        "  #consulto si el valor asociado en esa key es mayor que un valor maximo\n",
        "  #si es mayor actualizo la variable\n",
        "  REALIZADO"
      ],
      "metadata": {
        "id": "nYqUaUHuDXOL"
      },
      "execution_count": null,
      "outputs": []
    }
  ]
}