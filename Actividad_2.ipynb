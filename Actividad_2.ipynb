{
  "nbformat": 4,
  "nbformat_minor": 0,
  "metadata": {
    "colab": {
      "provenance": []
    },
    "kernelspec": {
      "name": "python3",
      "display_name": "Python 3"
    },
    "language_info": {
      "name": "python"
    }
  },
  "cells": [
    {
      "cell_type": "markdown",
      "source": [],
      "metadata": {
        "id": "gfhQYEEX1miX"
      }
    },
    {
      "cell_type": "markdown",
      "source": [
        "# Actividad 2"
      ],
      "metadata": {
        "id": "Vdl_txP_7LtD"
      }
    },
    {
      "cell_type": "markdown",
      "source": [
        "## Trabajo en grupo entre 2 o 3 estudiantes\n",
        "Indicar los nombres y los links de los repositorios de la actividad 1 de los integrantes:\n",
        "* nombre - repositorio"
      ],
      "metadata": {
        "id": "Pxb1o18H7UKU"
      }
    },
    {
      "cell_type": "markdown",
      "source": [
        "**Integrantes del grupo**\n",
        "\n",
        "*  Rosso Aylén\n",
        "*  Monzón Tracey\n",
        "*  Silva Morena\n",
        "  \n",
        "\n",
        "\n",
        "\n",
        "\n",
        "\n"
      ],
      "metadata": {
        "id": "SydFGola1DIC"
      }
    },
    {
      "cell_type": "markdown",
      "source": [
        "# Python y Colab\n",
        "* Se utilizará **Python** y este documento de **Google Colab** para resolver el ejercicio.\n",
        "* Para que la tarea se considere entregada se deberá poner el link del documento colab, con las soluciones, en la tarea de **todos** los integrantes.\n",
        "\n",
        "El ejercicio es **procesar texto** largo para identificar líenas, caracteres específicos.\n",
        "\n",
        "1. Se deberá realizar una **copia** de este documento antes de comenzar a modificar\n",
        "2. A lo largo del docuemtno se pedirá que responda preguntas y realice código, completar en la copia realizada con lo solicitado.\n",
        "3. Copiar el texto de los archivos subidos en los repositorios individuales utilizados en la actividad 1,  de cada integrante de este grupo en una sola **variable de texto.**\n",
        "\n"
      ],
      "metadata": {
        "id": "kufnxVG474V2"
      }
    },
    {
      "cell_type": "code",
      "source": [
        "# completar con sus textos\n",
        "texto_completo = '''Aylén: Cine\n",
        "Diversión:Este hobby me gusta porque ves el mundo del cine, podes observar los efectos especiales y sorprenderte de la evolusion de ellos, además te distrae de la realidad\n",
        "\n",
        "Familia: Este hobby lo comparto con una de mis hermanas y mi papá\n",
        "\n",
        "Amigos: A este hobby no lo comparto con mis amigos, ya que cada uno tiene sus responsablidades y se complica\n",
        "\n",
        "Medios: Busco informacion sobre este hobby en google, en los sitios web de las plataformas de streaming o enlas redes sociales(instagram, tiktok, twitter, etc)\n",
        "\n",
        "Tecnología: La tecnología ha facilitado el acceso a realizar este hobby ya que hay pantallas mas avanzadas, proyectores de alta definición, han adoptado de ella para ofrecer proyecciones en 3D y 4D. Un informe de noticias dice que el este hobby es realizado más por mujeres que por hombres.\n",
        "\n",
        "Tracey: Danza\n",
        "\n",
        "Diversión:Bailar me gusto desde siempre, para mi es una forma de expresarme y liberar mis emociones, es algo que me apasiona desde la primera clase que tome a mis 11 años, desde entonces formo parte de mi vida y siento que se volvio algo muy significativo parte mi\n",
        "\n",
        "Familia: Comparto la danza con mi papá, a el siempre le gusto, decia que era un sueño para el poder dedicarse a bailar\n",
        "\n",
        "Amigos: Salimos a bailar minimo 1 vez a la semana, en esos momento comparto este hobby con ellos\n",
        "\n",
        "Medios:Suelo ver contenido de este hobby a través de reded sociales, en especial tik tok\n",
        "\n",
        "Tecnología:La tecnologia facilita mucho este hobby ya que con esta se pone la musica para bailar o incluso si quiero aprender nuevas cosas simplemente lo puedo ver en el celular.\n",
        "\n",
        "Morena: Fútbol\n",
        "\n",
        "Diversión: Este es mi Hobby favorito, ya que es un deporte que hago desde chica y que hasta el dia de hoy me hace la persona mas feliz del mundo.\n",
        "\n",
        "Familia: este Hobby lo comparto con casi toda mi familia, ya que somos todos unos apacionados del Fútbol.\n",
        "\n",
        "Amigos: todos los días de mi vida, ya que es un deporte que practico\n",
        "\n",
        "Medios: Busco informacion sobre este deporte por instagram, twitter, youtube,etc.\n",
        "\n",
        "Tecnología: la tecnología le a facilitado un poco el trabajo a los arbitros, a traves del Var, ya que cuentan con aparatos tecnológicos que te dicen si el jugador esta adelantado o no, entre otras cosas. Hoy en día las mujeres vienen creciendo mucho en el Fútbol y cada vez son más las que se animan a practicarlo, pero todavia estamos muy lejos de alcanzar el gran número de los hombres.'''\n",
        "\n",
        "\n",
        "palabras = texto_completo.split()\n",
        "tipo_de_dato = type(palabras)\n",
        "longitud = len(palabras)\n",
        "print(\"La cantidad de palabras es:\", longitud)"
      ],
      "metadata": {
        "id": "_y9xVFhj9Heq",
        "colab": {
          "base_uri": "https://localhost:8080/"
        },
        "outputId": "595d1764-5122-43dc-c9e7-aaf9e3bc243f"
      },
      "execution_count": null,
      "outputs": [
        {
          "output_type": "stream",
          "name": "stdout",
          "text": [
            "La cantidad de palabras es: 417\n"
          ]
        }
      ]
    },
    {
      "cell_type": "markdown",
      "source": [
        "* Utilice el método **split()** para separar las palabras de la variable texto_completo, guarde el resultado en una variable nueva.\n",
        "* Indique el tipo de dato de la variable nueva utilizando el método **type(variable)**"
      ],
      "metadata": {
        "id": "e8llbqcS5e9c"
      }
    },
    {
      "cell_type": "markdown",
      "source": [
        "* Esta variable es de tipo **string**, podes conocer más en esta [página](https://docs.python.org/es/3/library/string.html).\n",
        "* Podemos saber la longitud con len().\n",
        "```python\n",
        "len(texto_completo)\n",
        "```\n",
        "* Podemos separar por palabras, es decir, generar una lista donde cada palabra sea una elemento con el método split()\n",
        "```python\n",
        "texto_completo.split()\n",
        "```\n",
        "\n",
        "\n"
      ],
      "metadata": {
        "id": "NsW0r4bK9SHH"
      }
    },
    {
      "cell_type": "code",
      "source": [
        "texto_ejemplo = '''Copiar el texto del archivo subido en los repositorios individuales de cada integrante de este grupo en una variable de texto'''\n",
        "lista_palabras = texto_ejemplo.split()"
      ],
      "metadata": {
        "id": "RHoorckM9-5U"
      },
      "execution_count": null,
      "outputs": []
    },
    {
      "cell_type": "code",
      "source": [
        "#completar con el código que separa la variable texto_compelto teniendo en cuenta el caracter \":\"\n",
        "texto_completo = '''Aylén: Cine\n",
        "Diversión:Este hobby me gusta porque ves el mundo del cine, podes observar los efectos especiales y sorprenderte de la evolusion de ellos, además te distrae de la realidad\n",
        "\n",
        "Familia: Este hobby lo comparto con una de mis hermanas y mi papá\n",
        "\n",
        "Amigos: A este hobby no lo comparto con mis amigos, ya que cada uno tiene sus responsablidades y se complica\n",
        "\n",
        "Medios: Busco informacion sobre este hobby en google, en los sitios web de las plataformas de streaming o enlas redes sociales(instagram, tiktok, twitter, etc)\n",
        "\n",
        "Tecnología: La tecnología ha facilitado el acceso a realizar este hobby ya que hay pantallas mas avanzadas, proyectores de alta definición, han adoptado de ella para ofrecer proyecciones en 3D y 4D. Un informe de noticias dice que el este hobby es realizado más por mujeres que por hombres.\n",
        "\n",
        "Tracey: Danza\n",
        "\n",
        "Diversión:Bailar me gusto desde siempre, para mi es una forma de expresarme y liberar mis emociones, es algo que me apasiona desde la primera clase que tome a mis 11 años, desde entonces formo parte de mi vida y siento que se volvio algo muy significativo parte mi\n",
        "\n",
        "Familia: Comparto la danza con mi papá, a el siempre le gusto, decia que era un sueño para el poder dedicarse a bailar.\n",
        "\n",
        "Amigos: Salimos a bailar minimo 1 vez a la semana, en esos momento comparto este hobby con ellos.\n",
        "\n",
        "Medios:Suelo ver contenido de este hobby a través de reded sociales, en especial tik tok.\n",
        "\n",
        "Tecnología:La tecnologia facilita mucho este hobby ya que con esta se pone la musica para bailar o incluso si quiero aprender nuevas cosas simplemente lo puedo ver en el celular.\n",
        "\n",
        "Morena: Fútbol\n",
        "\n",
        "Diversión: Este es mi Hobby favorito, ya que es un deporte que hago desde chica y que hasta el dia de hoy me hace la persona mas feliz del mundo.\n",
        "\n",
        "Familia: este Hobby lo comparto con casi toda mi familia, ya que somos todos unos apacionados del Fútbol.\n",
        "\n",
        "Amigos: todos los días de mi vida, ya que es un deporte que practico.\n",
        "\n",
        "Medios: Busco informacion sobre este deporte por instagram, twitter, youtube,etc.\n",
        "\n",
        "Tecnología: la tecnología le a facilitado un poco el trabajo a los arbitros, a traves del Var, ya que cuentan con aparatos tecnológicos que te dicen si el jugador esta adelantado o no, entre otras cosas. Hoy en día las mujeres vienen creciendo mucho en el Fútbol y cada vez son más las que se animan a practicarlo, pero todavia estamos muy lejos de alcanzar el gran número de los hombres.'''\n",
        "\n",
        "#completar con el código indicando la longitud de la nueva variable\n",
        "partes = texto_completo\n",
        "longitud = len(partes)\n",
        "print(\"cantidad  de letras  es:\", longitud)"
      ],
      "metadata": {
        "id": "IxqvPv2r61y2",
        "colab": {
          "base_uri": "https://localhost:8080/"
        },
        "outputId": "ffdf4294-3845-4ff6-bb9d-59728097f477"
      },
      "execution_count": null,
      "outputs": [
        {
          "output_type": "stream",
          "name": "stdout",
          "text": [
            "cantidad  de letras  es: 2399\n"
          ]
        }
      ]
    },
    {
      "cell_type": "markdown",
      "source": [
        "* **texto en negrita** Indique con qué método se puede sacar los espacios que tiene un texto adelante o atrás, como se ve en ejemplo de abajo.\n",
        "\n",
        "\"  texto con espacio             \" -> \"texto con espacio\""
      ],
      "metadata": {
        "id": "-52ubwhNAuBv"
      }
    },
    {
      "cell_type": "code",
      "source": [
        "#completar con el código ejemplo utilizando el método correspondiente\n",
        "texto_completo = texto_completo.strip()"
      ],
      "metadata": {
        "id": "jMFf3UY3BSm9"
      },
      "execution_count": null,
      "outputs": []
    },
    {
      "cell_type": "code",
      "source": [
        "texto_completo = ''' Aylén: Cine\n",
        "Diversión:Este hobby me gusta porque ves el mundo del cine, podes observar los efectos especiales y sorprenderte de la evolusion de ellos, además te distrae de la realidad\n",
        "\n",
        "Familia: Este hobby lo comparto con una de mis hermanas y mi papá\n",
        "\n",
        "Amigos: A este hobby no lo comparto con mis amigos, ya que cada uno tiene sus responsablidades y se complica\n",
        "\n",
        "Medios: Busco informacion sobre este hobby en google, en los sitios web de las plataformas de streaming o enlas redes sociales(instagram, tiktok, twitter, etc)\n",
        "\n",
        "Tecnología: La tecnología ha facilitado el acceso a realizar este hobby ya que hay pantallas mas avanzadas, proyectores de alta definición, han adoptado de ella para ofrecer proyecciones en 3D y 4D. Un informe de noticias dice que el este hobby es realizado más por mujeres que por hombres.\n",
        "\n",
        "Tracey: Danza\n",
        "\n",
        "Diversión:Bailar me gusto desde siempre, para mi es una forma de expresarme y liberar mis emociones, es algo que me apasiona desde la primera clase que tome a mis 11 años, desde entonces formo parte de mi vida y siento que se volvio algo muy significativo parte mi\n",
        "\n",
        "Familia: Comparto la danza con mi papá, a el siempre le gusto, decia que era un sueño para el poder dedicarse a bailar.\n",
        "\n",
        "Amigos: Salimos a bailar minimo 1 vez a la semana, en esos momento comparto este hobby con ellos.\n",
        "\n",
        "Medios:Suelo ver contenido de este hobby a través de reded sociales, en especial tik tok.\n",
        "\n",
        "Tecnología:La tecnologia facilita mucho este hobby ya que con esta se pone la musica para bailar o incluso si quiero aprender nuevas cosas simplemente lo puedo ver en el celular.\n",
        "\n",
        "Morena: Fútbol\n",
        "\n",
        "Diversión: Este es mi Hobby favorito, ya que es un deporte que hago desde chica y que hasta el dia de hoy me hace la persona mas feliz del mundo.\n",
        "\n",
        "Familia: este Hobby lo comparto con casi toda mi familia, ya que somos todos unos apacionados del Fútbol.\n",
        "\n",
        "Amigos: todos los días de mi vida, ya que es un deporte que practico.\n",
        "\n",
        "Medios: Busco informacion sobre este deporte por instagram, twitter, youtube,etc.\n",
        "\n",
        "Tecnología: la tecnología le a facilitado un poco el trabajo a los arbitros, a traves del Var, ya que cuentan con aparatos tecnológicos que te dicen si el jugador esta adelantado o no, entre otras cosas. Hoy en día las mujeres vienen creciendo mucho en el Fútbol y cada vez son más las que se animan a practicarlo, pero todavia estamos muy lejos de alcanzar el gran número de los hombres. '''\n",
        "\n",
        "#completar con el código indicando la longitud de la nueva variable\n",
        "Letras = texto_completo.strip()\n",
        "longitud = len(Letras)\n",
        "print(\"La cantidad de letras sin espacios en blanco, son:\", longitud)"
      ],
      "metadata": {
        "id": "55UHAYMVKwPy",
        "colab": {
          "base_uri": "https://localhost:8080/"
        },
        "outputId": "f09942d9-783c-49d0-ad35-767dbb0c1b90"
      },
      "execution_count": null,
      "outputs": [
        {
          "output_type": "stream",
          "name": "stdout",
          "text": [
            "La cantidad de letras sin espacios en blanco, son: 2399\n"
          ]
        }
      ]
    },
    {
      "cell_type": "markdown",
      "source": [
        "* Indique cómo se puede utilizar el método split() para separar palabras, utilizando como caracter de separación, por ejemplo \":\":\n",
        "\n",
        "\"texto: es una línea de texto\" -> [\"texto\", \"es una línea de texto\"]\n",
        "* Realice la separación del texto de la variable texto_completo y guarde el resultado en una nueva variable.\n",
        "* Indique la longitud de esta nueva variable"
      ],
      "metadata": {
        "id": "6RPs7HOf5IFL"
      }
    },
    {
      "cell_type": "code",
      "source": [
        "#completar con el código\n",
        "#separar el texto en palabras usando split con el caracter \":\"\n",
        "#indicar la longitud de la nueva variable\n",
        "partes = texto_completo.split(\":\")\n",
        "print(\"Las partes separadas con dos puntos son:\")\n",
        "for parte in partes:\n",
        "    print(parte.strip())\n",
        "longitud = len(partes)\n",
        "print(\"La cantidad de elementos de la lista son:\", longitud)"
      ],
      "metadata": {
        "id": "PFP_9FYP5eFG",
        "colab": {
          "base_uri": "https://localhost:8080/"
        },
        "outputId": "6ab231ff-2821-4d8f-e915-33638b4a314e"
      },
      "execution_count": null,
      "outputs": [
        {
          "output_type": "stream",
          "name": "stdout",
          "text": [
            "Las partes separadas con dos puntos son:\n",
            "Aylén\n",
            "Cine\n",
            "Diversión\n",
            "Este hobby me gusta porque ves el mundo del cine, podes observar los efectos especiales y sorprenderte de la evolusion de ellos, además te distrae de la realidad\n",
            "\n",
            "Familia\n",
            "Este hobby lo comparto con una de mis hermanas y mi papá\n",
            "\n",
            "Amigos\n",
            "A este hobby no lo comparto con mis amigos, ya que cada uno tiene sus responsablidades y se complica\n",
            "\n",
            "Medios\n",
            "Busco informacion sobre este hobby en google, en los sitios web de las plataformas de streaming o enlas redes sociales(instagram, tiktok, twitter, etc)\n",
            "\n",
            "Tecnología\n",
            "La tecnología ha facilitado el acceso a realizar este hobby ya que hay pantallas mas avanzadas, proyectores de alta definición, han adoptado de ella para ofrecer proyecciones en 3D y 4D. Un informe de noticias dice que el este hobby es realizado más por mujeres que por hombres.\n",
            "\n",
            "Tracey\n",
            "Danza\n",
            "\n",
            "Diversión\n",
            "Bailar me gusto desde siempre, para mi es una forma de expresarme y liberar mis emociones, es algo que me apasiona desde la primera clase que tome a mis 11 años, desde entonces formo parte de mi vida y siento que se volvio algo muy significativo parte mi\n",
            "\n",
            "Familia\n",
            "Comparto la danza con mi papá, a el siempre le gusto, decia que era un sueño para el poder dedicarse a bailar.\n",
            "\n",
            "Amigos\n",
            "Salimos a bailar minimo 1 vez a la semana, en esos momento comparto este hobby con ellos.\n",
            "\n",
            "Medios\n",
            "Suelo ver contenido de este hobby a través de reded sociales, en especial tik tok.\n",
            "\n",
            "Tecnología\n",
            "La tecnologia facilita mucho este hobby ya que con esta se pone la musica para bailar o incluso si quiero aprender nuevas cosas simplemente lo puedo ver en el celular.\n",
            "\n",
            "Morena\n",
            "Fútbol\n",
            "\n",
            "Diversión\n",
            "Este es mi Hobby favorito, ya que es un deporte que hago desde chica y que hasta el dia de hoy me hace la persona mas feliz del mundo.\n",
            "\n",
            "Familia\n",
            "este Hobby lo comparto con casi toda mi familia, ya que somos todos unos apacionados del Fútbol.\n",
            "\n",
            "Amigos\n",
            "todos los días de mi vida, ya que es un deporte que practico.\n",
            "\n",
            "Medios\n",
            "Busco informacion sobre este deporte por instagram, twitter, youtube,etc.\n",
            "\n",
            "Tecnología\n",
            "la tecnología le a facilitado un poco el trabajo a los arbitros, a traves del Var, ya que cuentan con aparatos tecnológicos que te dicen si el jugador esta adelantado o no, entre otras cosas. Hoy en día las mujeres vienen creciendo mucho en el Fútbol y cada vez son más las que se animan a practicarlo, pero todavia estamos muy lejos de alcanzar el gran número de los hombres.\n",
            "La cantidad de elementos de la lista es: 19\n"
          ]
        }
      ]
    },
    {
      "cell_type": "markdown",
      "source": [
        "También  se puede usar el método **splitlines()** para separar por cada nueva línea\n",
        "```python\n",
        "texto_ejemplo.splitlines()\n",
        "```"
      ],
      "metadata": {
        "id": "Sf2wlKRMMkB6"
      }
    },
    {
      "cell_type": "markdown",
      "source": [
        "* Generar una nueva variable que guarde el contenido de la variable texto_completo separandolo por nueva línea\n",
        "* Recorrer la lista y encontrar los elementos que contienen el carater \":\".\n",
        "* Consulte la estructura **for** y el **if** en python."
      ],
      "metadata": {
        "id": "Ufy8fwXfO2io"
      }
    },
    {
      "cell_type": "code",
      "source": [
        "# ejemplo del uso del for\n",
        "mi_lista =['a','b','c','d','e','f','g','h']\n",
        "for i in mi_lista:\n",
        "  print(i)"
      ],
      "metadata": {
        "colab": {
          "base_uri": "https://localhost:8080/"
        },
        "id": "YxNomJaGQ696",
        "outputId": "2b2ef75c-a1b6-48fa-a1af-f7b68a8cd135"
      },
      "execution_count": null,
      "outputs": [
        {
          "output_type": "stream",
          "name": "stdout",
          "text": [
            "a\n",
            "b\n",
            "c\n",
            "d\n",
            "e\n",
            "f\n",
            "g\n",
            "h\n"
          ]
        }
      ]
    },
    {
      "cell_type": "code",
      "source": [
        "#completar acá con el código que permite separar por nueva línea la variable texto_completo, guarde el resultado en una nueva variable\n",
        "\n",
        "#recorrer  la nueva variable imprimiendo cada elemento de la lista\n",
        "\n",
        "#indicar longitud de la nueva variable\n",
        "texto_completo = ''' Aylén: Cine\n",
        "Diversión:Este hobby me gusta porque ves el mundo del cine, podes observar los efectos especiales y sorprenderte de la evolusion de ellos, además te distrae de la realidad\n",
        "Familia: Este hobby lo comparto con una de mis hermanas y mi papá.\n",
        "Amigos: A este hobby no lo comparto con mis amigos, ya que cada uno tiene sus responsablidades y se complica.\n",
        "Medios: Busco informacion sobre este hobby en google, en los sitios web de las plataformas de streaming o enlas redes sociales(instagram, tiktok, twitter, etc).\n",
        "Tecnología: La tecnología ha facilitado el acceso a realizar este hobby ya que hay pantallas mas avanzadas, proyectores de alta definición, han adoptado de ella para ofrecer proyecciones en 3D y 4D. Un informe de noticias dice que el este hobby es realizado más por mujeres que por hombres.\n",
        "Tracey: Danza.\n",
        "Diversión:Bailar me gusto desde siempre, para mi es una forma de expresarme y liberar mis emociones, es algo que me apasiona desde la primera clase que tome a mis 11 años, desde entonces formo parte de mi vida y siento que se volvio algo muy significativo parte mi.\n",
        "Familia: Comparto la danza con mi papá, a el siempre le gusto, decia que era un sueño para el poder dedicarse a bailar.\n",
        "Amigos: Salimos a bailar minimo 1 vez a la semana, en esos momento comparto este hobby con ellos.\n",
        "Medios:Suelo ver contenido de este hobby a través de reded sociales, en especial tik tok.\n",
        "Tecnología:La tecnologia facilita mucho este hobby ya que con esta se pone la musica para bailar o incluso si quiero aprender nuevas cosas simplemente lo puedo ver en el celular.\n",
        "Morena: Fútbol\n",
        "Diversión: Este es mi Hobby favorito, ya que es un deporte que hago desde chica y que hasta el dia de hoy me hace la persona mas feliz del mundo.\n",
        "Familia: este Hobby lo comparto con casi toda mi familia, ya que somos todos unos apacionados del Fútbol.\n",
        "Amigos: todos los días de mi vida, ya que es un deporte que practico.\n",
        "Medios: Busco informacion sobre este deporte por instagram, twitter, youtube,etc.\n",
        "Tecnología: la tecnología le a facilitado un poco el trabajo a los arbitros, a traves del Var, ya que cuentan con aparatos tecnológicos que te dicen si el jugador esta adelantado o no, entre otras cosas. Hoy en día las mujeres vienen creciendo mucho en el Fútbol y cada vez son más las que se animan a practicarlo, pero todavia estamos muy lejos de alcanzar el gran número de los hombres. '''\n",
        "\n",
        "lineas = texto_completo.splitlines()\n",
        "for i in lineas :\n",
        "  print(i)\n",
        "  cantidad_lineas = len(lineas)\n",
        "longitud = len(lineas)\n",
        "print(\"cantidad de lineas:\", longitud)"
      ],
      "metadata": {
        "id": "_AXZG7MKRQji",
        "colab": {
          "base_uri": "https://localhost:8080/"
        },
        "outputId": "5b371c18-6ca5-44b9-8f4e-c84b85cd847c"
      },
      "execution_count": null,
      "outputs": [
        {
          "output_type": "stream",
          "name": "stdout",
          "text": [
            " Aylén: Cine\n",
            "Diversión:Este hobby me gusta porque ves el mundo del cine, podes observar los efectos especiales y sorprenderte de la evolusion de ellos, además te distrae de la realidad\n",
            "Familia: Este hobby lo comparto con una de mis hermanas y mi papá.\n",
            "Amigos: A este hobby no lo comparto con mis amigos, ya que cada uno tiene sus responsablidades y se complica.\n",
            "Medios: Busco informacion sobre este hobby en google, en los sitios web de las plataformas de streaming o enlas redes sociales(instagram, tiktok, twitter, etc).\n",
            "Tecnología: La tecnología ha facilitado el acceso a realizar este hobby ya que hay pantallas mas avanzadas, proyectores de alta definición, han adoptado de ella para ofrecer proyecciones en 3D y 4D. Un informe de noticias dice que el este hobby es realizado más por mujeres que por hombres.\n",
            "Tracey: Danza.\n",
            "Diversión:Bailar me gusto desde siempre, para mi es una forma de expresarme y liberar mis emociones, es algo que me apasiona desde la primera clase que tome a mis 11 años, desde entonces formo parte de mi vida y siento que se volvio algo muy significativo parte mi.\n",
            "Familia: Comparto la danza con mi papá, a el siempre le gusto, decia que era un sueño para el poder dedicarse a bailar.\n",
            "Amigos: Salimos a bailar minimo 1 vez a la semana, en esos momento comparto este hobby con ellos.\n",
            "Medios:Suelo ver contenido de este hobby a través de reded sociales, en especial tik tok.\n",
            "Tecnología:La tecnologia facilita mucho este hobby ya que con esta se pone la musica para bailar o incluso si quiero aprender nuevas cosas simplemente lo puedo ver en el celular.\n",
            "Morena: Fútbol\n",
            "Diversión: Este es mi Hobby favorito, ya que es un deporte que hago desde chica y que hasta el dia de hoy me hace la persona mas feliz del mundo.\n",
            "Familia: este Hobby lo comparto con casi toda mi familia, ya que somos todos unos apacionados del Fútbol.\n",
            "Amigos: todos los días de mi vida, ya que es un deporte que practico.\n",
            "\n",
            "Medios: Busco informacion sobre este deporte por instagram, twitter, youtube,etc.\n",
            "Tecnología: la tecnología le a facilitado un poco el trabajo a los arbitros, a traves del Var, ya que cuentan con aparatos tecnológicos que te dicen si el jugador esta adelantado o no, entre otras cosas. Hoy en día las mujeres vienen creciendo mucho en el Fútbol y cada vez son más las que se animan a practicarlo, pero todavia estamos muy lejos de alcanzar el gran número de los hombres. \n",
            "cantidad de lineas: 19\n"
          ]
        }
      ]
    },
    {
      "cell_type": "markdown",
      "source": [],
      "metadata": {
        "id": "sBhNPldVgGJq"
      }
    },
    {
      "cell_type": "markdown",
      "source": [
        "## Contestar las siguientes consultas:\n",
        "* ¿Qué elementos les parece que no sería necesario guardar en la lista?\n",
        "* ¿Todos los elementos, de la nueva variable que usó para guardar el resultado de separar por cada nueva línea, contienen texto?.\n",
        "* La estructura condicional de python  permite saber si un elemento de la lista, que se está recorriendo, contiene el caracter \":\"?.\n",
        "\n",
        "**RESPUESTAS**\n",
        "\n",
        "*   Los elementos que no se uardan en la lista son: la coma y el punto.\n",
        "*   Las nuevas variables no contienen texto.\n",
        "*    Sí, podes utilizar una estructura condicional en Python para verificar si un elemento de la lista contiene el carácter \":\" mientras la estás recorriendo.\n",
        "\n",
        "\n",
        "  \n",
        "\n",
        "\n",
        "\n",
        "\n",
        "```python\n",
        "if \":\" in i:\n",
        "      print(\"está\")\n",
        "```\n",
        "* ¿Cómo se denomina la parte de la estructura condicional?\n",
        "```python\n",
        "\":\" in i\n",
        "```\n",
        "* Recorra la lista consultando si en la línea que se encuentra contiene el caracter \":\"\n"
      ],
      "metadata": {
        "id": "OqJVlmZER5JV"
      }
    },
    {
      "cell_type": "code",
      "source": [
        "#completar con el código que recorre la variable lista e imprime por pantalla las líneas que contiene \":\"\n",
        "mi_lista =['a','b','c','d','e','f','g','h']\n",
        "for i in mi_lista:\n",
        "  if \":\" in i:\n",
        "    print(\"está\")"
      ],
      "metadata": {
        "id": "PrSXHjecb5Lw"
      },
      "execution_count": null,
      "outputs": []
    },
    {
      "cell_type": "markdown",
      "source": [
        "\n",
        "1. Indicar qué tipos de datos se utilizaron en este documento.\n",
        "2. Por cada tipo de datos de los ejemplos, indique cuáles son las variables utilizadas en esta actividad de ese tipo.\n",
        "3. ¿Qué estructuras de datos que permite almacenar más de un elemento, utilizó en esta actividad? De los nombres de las variables que correspondan a este tipo de datos.\n",
        "4. Investigar en chatgpt: ¿qué estructura podría ser más eficiente utilizar para guardar datos que estén relacionados entre sí y el acceso a ciertas claves sea directo sin tener que recorrer la estructura?\n",
        "5. ¿Cómo se podría guardar los datos de los hobbies para poder acceder directamente a las respuestas de cada integrante? ¿qué estructura y cómo la armaría? Indicar cómo le quedaría sin hacerlo en python sino escribiendo la forma de cómo quedaría.\n",
        "\n",
        "\n",
        "**RESPUESTAS**\n",
        "\n",
        "1. Los tipos de datos que se utilizron son de tipo string, int,str Y list.\n",
        "\n",
        "2. Las variables utilizadas son: texto_completo, palabras, lineas y partes.\n",
        "\n",
        "3. La estructura que permite almacenar más de un elemento es la estructura lista(list). Las variables que utilice son: partes, lineas y palabras.\n",
        "\n",
        "4. Una estructura de datos que sería eficiente para almacenar datos relacionados entre sí y permitir acceso directo a ciertas claves sin tener que recorrer la estructura sería un diccionario (o mapa, dependiendo del lenguaje de programación que estés utilizando).\n",
        "Un diccionario es una estructura de datos que mapea claves únicas a valores correspondientes. Esto significa que puedes acceder a un valor dado su clave de forma directa, en lugar de tener que recorrer toda la estructura para encontrarlo. Esto lo hace ideal para situaciones donde se necesita acceso rápido a los datos basado en una clave.\n",
        "\n",
        "5. La estructuta que me imagino es:\n",
        "\n",
        "     \n",
        "          cine:\n",
        "              Diverción: #completar con sus respuestas#\n",
        "              Familia: #completar con sus respuestas#\n",
        "              Amigos: #completar con sus respuestas#\n",
        "              Medios: #completar con sus respuestas#\n",
        "              Tecnología: #completar con sus respuestas#\n",
        "\n",
        "          Danza:  \n",
        "              Diverción: #completar con sus respuestas#\n",
        "              Familia: #completar con sus respuestas#\n",
        "              Amigos: #completar con sus respuestas#\n",
        "              Medios: #completar con sus respuestas#\n",
        "              Tecnología: #completar con sus respuestas#\n",
        "\n",
        "          Fútbol:  \n",
        "              Diverción: #completar con sus respuestas#\n",
        "              Familia: #completar con sus respuestas#\n",
        "              Amigos: #completar con sus respuestas#\n",
        "              Medios: #completar con sus respuestas#\n",
        "              Tecnología: #completar con sus respuestas#\n",
        "\n",
        "    \n",
        "    \n",
        "      \n"
      ],
      "metadata": {
        "id": "GZCJ7WEmBL4I"
      }
    },
    {
      "cell_type": "markdown",
      "source": [
        "## Tips de manejo de string\n",
        "* Utiliza la función split() para dividir el texto en palabras. Por ejemplo, texto.split() devolverá una lista de palabras.\n",
        "\n",
        "* Utiliza la función strip() para eliminar espacios en blanco al inicio y al final del texto. Por ejemplo, texto.strip() devolverá el texto sin espacios en blanco innecesarios.\n",
        "\n",
        "* Utiliza el método splitlines() para dividir el texto en líneas. Por ejemplo, texto.splitlines() devolverá una lista de líneas.\n",
        "\n",
        "* Utiliza el método replace() para reemplazar una subcadena por otra en un string. Por ejemplo, \"Hola mundo\".replace(\"mundo\", \"amigos\") devolverá el string \"Hola amigos\".\n",
        "\n",
        "* Utiliza el módulo string para manipular texto de forma eficiente. Por ejemplo, string.ascii_lowercase devolverá una cadena de texto con todas las letras minúsculas del alfabeto.\n",
        "\n",
        "* Utiliza la función startswith() para comprobar si una cadena de texto empieza con un determinado prefijo. Por ejemplo, texto.startswith('Hola') devolverá True si el texto empieza con la palabra \"Hola\".\n",
        "\n",
        "* Utiliza la función endswith() para comprobar si una cadena de texto termina con un determinado sufijo. Por ejemplo, texto.endswith('mundo') devolverá True si el texto termina con la palabra \"mundo\".\n",
        "\n",
        "* Utiliza la función isalpha() para comprobar si una cadena de texto contiene solamente letras. Por ejemplo, texto.isalpha() devolverá True si el texto contiene solamente letras.\n",
        "\n",
        "* Utiliza la función isdigit() para comprobar si una cadena de texto contiene solamente números. Por ejemplo, texto.isdigit() devolverá True si el texto contiene solamente números.\n",
        "\n"
      ],
      "metadata": {
        "id": "KAD0Vv2o8xQV"
      }
    }
  ]
}